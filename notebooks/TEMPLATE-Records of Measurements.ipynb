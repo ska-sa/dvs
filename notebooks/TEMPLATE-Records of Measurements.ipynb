{
 "cells": [
  {
   "cell_type": "markdown",
   "id": "9cd40740-3f9e-42a1-bfc0-9fed8437b99e",
   "metadata": {},
   "source": [
    "# DVS Records of Measurements\n",
    "\n",
    "A record of datasets recorded for DVS tests on XXX, along with assessment of completeness for each category of test.\n",
    "\n",
    "NB: this excludes datasets recorded for set-to-work activities.\n",
    "\n",
    "\n",
    "                                                                                   Last updated 14/08/2025"
   ]
  },
  {
   "cell_type": "code",
   "execution_count": null,
   "id": "f292cfa7-07d6-4e77-94f2-76be844fa79a",
   "metadata": {},
   "outputs": [],
   "source": [
    "%matplotlib inline\n",
    "import pylab as plt\n",
    "import numpy as np\n",
    "import time\n",
    "import katpoint"
   ]
  },
  {
   "cell_type": "code",
   "execution_count": null,
   "id": "b29dd5ef-2bb8-46d5-a6fe-4f5303e7a3d2",
   "metadata": {},
   "outputs": [],
   "source": [
    "from dvs import util, planning, tipcurve, driftscan, hologreport\n",
    "from analysis import katselib\n",
    "import dvsholog"
   ]
  },
  {
   "cell_type": "code",
   "execution_count": null,
   "id": "0e9267ef-70df-45fb-aa2e-be9c1e7c63fc",
   "metadata": {},
   "outputs": [],
   "source": [
    "ant = \"s0XXX\"\n",
    "final_FI_angles = {'x':103, 's':-18.7, 'b2':-100}"
   ]
  },
  {
   "cell_type": "code",
   "execution_count": null,
   "id": "3e5a2f28-961e-4fe4-96b8-3e22950938f6",
   "metadata": {},
   "outputs": [],
   "source": [
    "def discard(bad_cbids):\n",
    "    \"\"\" Discard datasets from **global** lists 'rr'and 'cbids', and also from local cache. \"\"\"\n",
    "    global rr, cbids\n",
    "    for cbid in bad_cbids:\n",
    "        rr = [r for r in rr if (int(r['CaptureBlockId'])!=cbid)] # Remove from 'rr'\n",
    "        try: # In case it's been cached locally, remove it\n",
    "            cbids.remove(cbid); util.open_dataset(cbid, cache_root=\"./l1_data\").del_cache()\n",
    "        except (NameError, ValueError): # If 'cbids' not yet defined, or 'cbid' not in 'cbids'\n",
    "            pass\n",
    "\n",
    "def summarise_distribution(cbids, ant, match_FI_angle=None, DFI=0.02):\n",
    "    \"\"\" Summarises the counts of datasets over elevation and by night & day \"\"\"\n",
    "    sub_cbids = list(cbids)\n",
    "    el, is_night = [], []\n",
    "    for cbid in list(cbids):\n",
    "        ds = util.open_dataset(cbid, ref_ant=ant, cache_root=\"./l1_data\")\n",
    "        is_nighttime = katselib.is_nighttime(ds.timestamps[0]) and katselib.is_nighttime(np.mean(ds.timestamps))\n",
    "        fi = katselib.getsensorvalues(\"%s_dsm_indexerActualPosition\"%ant, ds.timestamps)[1]\n",
    "        if (match_FI_angle is not None) and (np.abs(np.median(fi)-match_FI_angle)>DFI):\n",
    "            sub_cbids.remove(cbid)\n",
    "        else:\n",
    "            el.append(np.mean(ds.el))\n",
    "            is_night.append(is_nighttime)\n",
    "        print(cbid, {False:\"day\", True:\"night\"}[is_nighttime], np.mean(ds.el), \"degEl; FI @\", np.mean(fi))\n",
    "    plt.figure(figsize=(12,3))\n",
    "    plt.hist(el, bins=20, range=(14,84), label=\"day & night\")\n",
    "    plt.hist(np.compress(is_night, el, axis=0), bins=20, range=(14,84), alpha=0.5, label=\"night\")\n",
    "    plt.xlabel(\"Elevation [deg]\"); plt.ylabel(\"Counts [#]\"); plt.legend()\n",
    "    print(sub_cbids)\n",
    "    return sub_cbids"
   ]
  },
  {
   "cell_type": "markdown",
   "id": "9af78232-de1c-4914-98e9-0ba31125c154",
   "metadata": {},
   "source": [
    "# Tipping Curves\n",
    "* Pick time for Sun<0degEl, MilkyWay<10degEl\n",
    "* Pick Az angles to avoid local hills & Milky way - unique per DISH"
   ]
  },
  {
   "cell_type": "code",
   "execution_count": null,
   "id": "bcd96e9e-37ac-4744-95b8-688b2ede2fdc",
   "metadata": {},
   "outputs": [],
   "source": [
    "def qa_tipping(rr, ant):\n",
    "    cbids = []\n",
    "    for r in rr:\n",
    "        cbids.append(int(r['CaptureBlockId']))\n",
    "        try:\n",
    "            ds = util.open_dataset(cbids[-1], ref_ant=ant, cache_root=\"./l1_data\")\n",
    "            ds.select(ants=ant, scans=\"track\")\n",
    "            ra, dec, el = np.transpose([(np.mean(ds.ra), np.mean(ds.dec), np.mean(ds.el)) for scan in ds.scans()])\n",
    "            T_skytemp = tipcurve.Sky_temp(np.min(ds.freqs)/1e6)\n",
    "            fig = T_skytemp.plot_sky(ra, dec, pointstyle='ro', date=time.gmtime(ds.timestamps[0])[:6],\n",
    "                                     **dict(zip(['lat','lon','elev'], map(float, ds.ants[0].position_wgs84))))\n",
    "            sun_ra, sun_dec = np.array(katpoint.Target(\"Sun, special\").radec(ds.timestamps[-1], ds.ants[0]))*180/np.pi\n",
    "            T_skytemp.plot_sky(sun_ra, sun_dec, pointstyle='y*', fig=fig)\n",
    "            plt.title(\"%d: %s - %s UTC, tipping at Az %.fdeg\\nSky brightness at %.fMHz\" % \n",
    "                      (cbids[-1], np.datetime64(int(ds.timestamps[0]),'s'), np.datetime64(int(ds.timestamps[-1]),'s'), np.mean(ds.az), T_skytemp.nu))\n",
    "        except:\n",
    "            util.open_dataset(cbids[-1], ref_ant=ant, cache_root=\"./l1_data\").del_cache()\n",
    "            cbids.pop(-1)\n",
    "    return cbids"
   ]
  },
  {
   "cell_type": "markdown",
   "id": "1d109274-e421-4353-84aa-ad1df61a710e",
   "metadata": {},
   "source": [
    "## Band2"
   ]
  },
  {
   "cell_type": "code",
   "execution_count": null,
   "id": "f74580bb-fbc2-45f3-8f89-8cfde48f3934",
   "metadata": {},
   "outputs": [],
   "source": [
    "rr = katselib.ls_archive(f\"Antennas:*{ant}* AND CenterFrequency:1284000000 AND StartTime:[2025-05-20T0:0:0Z TO *] AND InstructionSet:*tipping*\",\n",
    "                         fields=[\"CaptureBlockId\", \"StartTime\", \"CenterFrequency\", \"Description\", \"Antennas\"])"
   ]
  },
  {
   "cell_type": "code",
   "execution_count": null,
   "id": "17f74dd5-68b5-4d4b-8621-3bc009cf1b9d",
   "metadata": {},
   "outputs": [],
   "source": [
    "# Run this before and after the \"QA\" cell below, to exclude datasets based on manual QA assessment\n",
    "discard([# Update this list to contain all \"bad\" datasets, with comment please!\n",
    "])"
   ]
  },
  {
   "cell_type": "code",
   "execution_count": null,
   "id": "6893e639-effd-4e92-945d-054be5ba12f5",
   "metadata": {
    "scrolled": true
   },
   "outputs": [],
   "source": [
    "cbids = qa_tipping(rr, ant)"
   ]
  },
  {
   "cell_type": "code",
   "execution_count": null,
   "id": "09b0f897-998f-4085-8217-903c83ae7f3a",
   "metadata": {},
   "outputs": [],
   "source": [
    "print(cbids)"
   ]
  },
  {
   "cell_type": "markdown",
   "id": "3da197ab-3f60-406a-9afc-68d4e2bf10bb",
   "metadata": {},
   "source": [
    "## S0"
   ]
  },
  {
   "cell_type": "code",
   "execution_count": null,
   "id": "20414720-03a9-4a7c-8250-ef34ab9cedf8",
   "metadata": {},
   "outputs": [],
   "source": [
    "rr = katselib.ls_archive(f\"Antennas:*{ant}* AND CenterFrequency:2187500000 AND StartTime:[2025-05-20T0:0:0Z TO *] AND InstructionSet:*tipping*\",\n",
    "                         fields=[\"CaptureBlockId\", \"StartTime\", \"CenterFrequency\", \"Description\", \"Antennas\"])"
   ]
  },
  {
   "cell_type": "code",
   "execution_count": null,
   "id": "c465cfe1-f987-4e57-a14e-1788cca0b54b",
   "metadata": {},
   "outputs": [],
   "source": [
    "# Run this before and after the \"QA\" cell below, to exclude datasets based on manual QA assessment\n",
    "discard([# Update this list to contain all \"bad\" datasets, with comment please!\n",
    "])"
   ]
  },
  {
   "cell_type": "code",
   "execution_count": null,
   "id": "7686e32e-6a01-479d-9bc3-65c711533add",
   "metadata": {
    "scrolled": true
   },
   "outputs": [],
   "source": [
    "cbids = qa_tipping(rr, ant)"
   ]
  },
  {
   "cell_type": "code",
   "execution_count": null,
   "id": "c0f94a08-64bd-491f-b720-b31f64c5b825",
   "metadata": {},
   "outputs": [],
   "source": [
    "print(cbids)"
   ]
  },
  {
   "cell_type": "markdown",
   "id": "d380f771-c43f-4eff-896f-8a3920033ebc",
   "metadata": {},
   "source": [
    "## S4"
   ]
  },
  {
   "cell_type": "code",
   "execution_count": null,
   "id": "7e81b4b9-9055-4ded-9917-37a5cedad7ca",
   "metadata": {},
   "outputs": [],
   "source": [
    "rr = katselib.ls_archive(f\"Antennas:*{ant}* AND CenterFrequency:3062500000 AND StartTime:[2025-05-20T0:0:0Z TO *] AND InstructionSet:*tipping*\",\n",
    "                         fields=[\"CaptureBlockId\", \"StartTime\", \"CenterFrequency\", \"Description\", \"Antennas\"])"
   ]
  },
  {
   "cell_type": "code",
   "execution_count": null,
   "id": "abca2b96-3dee-4bee-8dbf-3fc786343fd4",
   "metadata": {},
   "outputs": [],
   "source": [
    "# Run this before and after the \"QA\" cell below, to exclude datasets based on manual QA assessment\n",
    "discard([# Update this list to contain all \"bad\" datasets, with comment please!\n",
    "])"
   ]
  },
  {
   "cell_type": "code",
   "execution_count": null,
   "id": "19f3a80f-c343-4387-96e6-613bcdbfda80",
   "metadata": {
    "scrolled": true
   },
   "outputs": [],
   "source": [
    "cbids = qa_tipping(rr, ant)"
   ]
  },
  {
   "cell_type": "code",
   "execution_count": null,
   "id": "f27631b4-b35f-4486-a69f-61666a28985a",
   "metadata": {},
   "outputs": [],
   "source": [
    "print(cbids)"
   ]
  },
  {
   "cell_type": "markdown",
   "id": "bfb8d5ca-17d3-4689-99d7-8da9c06b762c",
   "metadata": {},
   "source": [
    "# Driftscans\n",
    "These should span the full range from below 20degEl to above 75degEl"
   ]
  },
  {
   "cell_type": "code",
   "execution_count": null,
   "id": "1354eaa0-1b20-4872-b71f-e9d7ea7a3b55",
   "metadata": {},
   "outputs": [],
   "source": [
    "def qa_driftscans(rr, ant):\n",
    "    cbids = []\n",
    "    for r in rr:\n",
    "        cbids.append(int(r['CaptureBlockId']))\n",
    "        try:\n",
    "            util.open_dataset(cbids[-1], cache_root=\"./l1_data\")\n",
    "            driftscan.DriftDataset(cbids[-1], ant=ant, debug=True)\n",
    "        except:\n",
    "            util.open_dataset(cbids[-1], cache_root=\"./l1_data\").del_cache()\n",
    "            cbids.pop(-1)\n",
    "    return cbids"
   ]
  },
  {
   "cell_type": "markdown",
   "id": "1d1085e1-721b-4168-9170-21dac5bd1923",
   "metadata": {},
   "source": [
    "## Band2"
   ]
  },
  {
   "cell_type": "code",
   "execution_count": null,
   "id": "b69ba313-0021-4c37-8623-c867cae44228",
   "metadata": {
    "scrolled": true
   },
   "outputs": [],
   "source": [
    "rr = katselib.ls_archive(f\"Antennas:*{ant}* AND CenterFrequency:1284000000 AND StartTime:[2025-05-20T0:0:0Z TO *] AND InstructionSet:drift*\",\n",
    "                         fields=[\"CaptureBlockId\", \"StartTime\", \"CenterFrequency\", \"Description\", \"Antennas\"])"
   ]
  },
  {
   "cell_type": "code",
   "execution_count": null,
   "id": "4d8e625e-1f16-4f38-8802-79841e6c2152",
   "metadata": {},
   "outputs": [],
   "source": [
    "# Run this before and after the \"QA\" cell below, to exclude datasets based on manual QA assessment\n",
    "discard([# Update this list to contain all \"bad\" datasets, with comment please!\n",
    "])"
   ]
  },
  {
   "cell_type": "code",
   "execution_count": null,
   "id": "69a6990e-7350-4def-b318-cc04f522bce4",
   "metadata": {
    "scrolled": true
   },
   "outputs": [],
   "source": [
    "cbids = qa_driftscans(rr, ant)"
   ]
  },
  {
   "cell_type": "code",
   "execution_count": null,
   "id": "e380b4f3-ff3c-4dfc-b954-d6fea93c4cd8",
   "metadata": {
    "scrolled": true
   },
   "outputs": [],
   "source": [
    "print(\"Final FI angle = \", final_FI_angles['b2']) # For reference\n",
    "summarise_distribution(cbids, ant);"
   ]
  },
  {
   "cell_type": "markdown",
   "id": "94e3a3ec-b342-49ab-8134-7d3fef59bc9f",
   "metadata": {},
   "source": [
    "## S0"
   ]
  },
  {
   "cell_type": "code",
   "execution_count": null,
   "id": "4e40fcaf-90dc-469e-a4b7-ce86ab2c042c",
   "metadata": {
    "scrolled": true
   },
   "outputs": [],
   "source": [
    "rr = katselib.ls_archive(f\"Antennas:*{ant}* AND CenterFrequency:2187500000 AND StartTime:[2025-05-20T0:0:0Z TO *] AND InstructionSet:drift*\",\n",
    "                         fields=[\"CaptureBlockId\", \"StartTime\", \"CenterFrequency\", \"Description\", \"Antennas\"])"
   ]
  },
  {
   "cell_type": "code",
   "execution_count": null,
   "id": "9929ca39-0096-40dd-b243-7a6939d2ca25",
   "metadata": {},
   "outputs": [],
   "source": [
    "# Run this before and after the \"QA\" cell below, to exclude datasets based on manual QA assessment\n",
    "discard([# Update this list to contain all \"bad\" datasets, with comment please!\n",
    "])"
   ]
  },
  {
   "cell_type": "code",
   "execution_count": null,
   "id": "1d40f05c-f82e-4987-9923-a2fa0743ca02",
   "metadata": {
    "scrolled": true
   },
   "outputs": [],
   "source": [
    "cbids = qa_driftscans(rr, ant)"
   ]
  },
  {
   "cell_type": "code",
   "execution_count": null,
   "id": "a08c132a-58f6-4bb4-aad7-a5cbc7de353a",
   "metadata": {
    "scrolled": true
   },
   "outputs": [],
   "source": [
    "print(\"Final FI angle = \", final_FI_angles['s']) # For reference\n",
    "summarise_distribution(cbids, ant);"
   ]
  },
  {
   "cell_type": "markdown",
   "id": "14117ce2-cce4-409c-93c3-864be34d6898",
   "metadata": {},
   "source": [
    "## S4"
   ]
  },
  {
   "cell_type": "code",
   "execution_count": null,
   "id": "5d788ed3-2a79-4816-a039-4c07fed4f892",
   "metadata": {
    "scrolled": true
   },
   "outputs": [],
   "source": [
    "rr = katselib.ls_archive(f\"Antennas:*{ant}* AND CenterFrequency:3062500000 AND StartTime:[2025-05-20T0:0:0Z TO *] AND InstructionSet:drift*\",\n",
    "                         fields=[\"CaptureBlockId\", \"StartTime\", \"CenterFrequency\", \"Description\", \"Antennas\"])"
   ]
  },
  {
   "cell_type": "code",
   "execution_count": null,
   "id": "eac7df6a-9279-4093-948e-7b80293179d8",
   "metadata": {},
   "outputs": [],
   "source": [
    "# Run this before and after the \"QA\" cell below, to exclude datasets based on manual QA assessment\n",
    "discard([# Update this list to contain all \"bad\" datasets, with comment please!\n",
    "])"
   ]
  },
  {
   "cell_type": "code",
   "execution_count": null,
   "id": "e9dd8de4-3e53-4637-a789-e022290372f3",
   "metadata": {
    "scrolled": true
   },
   "outputs": [],
   "source": [
    "cbids = qa_driftscans(rr, ant)"
   ]
  },
  {
   "cell_type": "code",
   "execution_count": null,
   "id": "95d09028-e8b3-4792-8952-b4392b3ecc38",
   "metadata": {
    "scrolled": true
   },
   "outputs": [],
   "source": [
    "print(\"Final FI angle = \", final_FI_angles['s']) # For reference\n",
    "summarise_distribution(cbids, ant);"
   ]
  },
  {
   "cell_type": "markdown",
   "id": "77b8ce0c-48e1-4367-84b9-c7104e20d6e0",
   "metadata": {},
   "source": [
    "## Catch-up Planning"
   ]
  },
  {
   "cell_type": "code",
   "execution_count": null,
   "id": "31b250ae-ce03-49da-b76d-b27f03d201ea",
   "metadata": {
    "scrolled": true
   },
   "outputs": [],
   "source": [
    "schedule = [(\"->S0\", 0),\n",
    "            (\"Hercules A\", 15*60),(\"Hercules A\", 15*60),(\"J0408-6545\", 35*60),\n",
    "            (\"J0408-6545\", 35*60),(\"J0408-6545\", 35*60),\n",
    "            (\"Pictor A\", 22*60),(\"J0408-6545\", 35*60),(\"Pictor A\", 22*60),\n",
    "\n",
    "            (\"-> S4\",10*60),\n",
    "            (\"PKS 1934-63\", 28*60),(\"PKS 1934-63\", 28*60),\n",
    "            (\"Tipping curves\",60*60),\n",
    "            (\"PKS 1934-63\", 28*60),(\"PKS 1934-63\", 28*60),\n",
    "]\n",
    "\n",
    "Tobs = katpoint.Timestamp(\"2025-07-19 23:15:00\").secs # UTC\n",
    "planning.sim_observations(schedule, catfn=\"../catalogues/fluxmodels.csv\", Tstart=Tobs, el_limit_deg=15,\n",
    "                 figsize=(12,7))"
   ]
  },
  {
   "cell_type": "markdown",
   "id": "8cec3c69-39b1-4365-93be-d9677a13b824",
   "metadata": {},
   "source": [
    "# Holography"
   ]
  },
  {
   "cell_type": "code",
   "execution_count": null,
   "id": "225974d8-26f7-4787-ba31-f57fa5fa4c53",
   "metadata": {},
   "outputs": [],
   "source": [
    "cached_url = lambda cbid: f\"./l1_data/{cbid}/{cbid}_sdp_l0.full.rdb\"\n",
    "xyzoffsets = [0.0, 1.5363, -3.4570]\n",
    "\n",
    "beacon_freq = {\"EUTELSAT 21B\": [12500,12500.5],\n",
    "            \"EUTELSAT 10B\": [11698.6,11699.2],\n",
    "            \"EUTELSAT 8 WEST B\": 12501,\n",
    "            \"EUTELSAT 36D\": [11701.8,12501],\n",
    "            \"INTELSAT 37E (IS-37E)\": 12501,\n",
    "            \"INTELSAT 22 (IS-22)\": [11699,12499],\n",
    "            \"INTELSAT 25 (IS-25)\": 12254,\n",
    "            \"INTELSAT 17 (IS-17)\": 12502,\n",
    "            \"INTELSAT 10-02\": 11452,\n",
    "            \"BADR-7\": [11703,11703.5],\n",
    "            \"THOR 7\": [11706,12494.5,12495.5],\n",
    "            \"YAMAL 402\": [11459.5,12500],\n",
    "            \"APSTAR-7\": [11699.8,12251],\n",
    "           }\n",
    "\n",
    "def qa_holography(rr, ant, f_MHz, dMHz=1):\n",
    "    cbids = []\n",
    "    if isinstance(f_MHz, dict): # Map of satellite beacons: check up-front if there are any missing\n",
    "        for r in rr:\n",
    "            tgts = sorted(set([_ for _ in r['Targets'] if not \"unwrap\" in _]))\n",
    "            if (tgts[-1] not in f_MHz.keys()):\n",
    "                print(\"MISSING: no beacon defined for %s\"%tgts)\n",
    "        \n",
    "    for r in rr:\n",
    "        freqs = f_MHz\n",
    "        if isinstance(f_MHz, dict):\n",
    "            tgt = sorted(set([_ for _ in r['Targets'] if not \"unwrap\" in _]))[-1]\n",
    "            try:\n",
    "                freqs = f_MHz[tgt]\n",
    "            except: # If it's missing, don't process this record\n",
    "                continue\n",
    "        \n",
    "        cbids.append(int(r['CaptureBlockId']))\n",
    "        try:\n",
    "            util.open_dataset(cbids[-1], cache_root=\"./l1_data\")\n",
    "            ds = dvsholog.Dataset(cached_url(cbids[-1]), \"SKA\", scanantname=ant, method='gainrawabs')\n",
    "            beams = []\n",
    "            for f in np.atleast_1d(freqs):\n",
    "                try: # This approach is necessary in case we combine different frequency bands\n",
    "                    beams.append(dvsholog.BeamCube(ds, scanantennaname=ant, freqMHz=f, dMHz=dMHz, interpmethod='scipy', xyzoffsets=xyzoffsets))\n",
    "                except:\n",
    "                    pass\n",
    "            assert len(beams)>0, \"No beams loaded successfully\"\n",
    "            plt.figure(figsize=(14,3), layout='constrained'); plt.suptitle(cbids[-1])\n",
    "            for i,bm in enumerate(beams):\n",
    "                plt.subplot(1,len(beams),i+1); bm.plot(\"Gx\", doclf=False); plt.gca().images[-1].colorbar.remove(); plt.title(bm.freqgrid)\n",
    "        except:\n",
    "            util.open_dataset(cbids[-1], cache_root=\"./l1_data\").del_cache()\n",
    "            cbids.pop(-1)\n",
    "    return cbids"
   ]
  },
  {
   "cell_type": "markdown",
   "id": "0fab78d3-f53e-40aa-bbdc-8acfc020ae58",
   "metadata": {},
   "source": [
    "## High Resolution\n",
    "These should typically be around 50degEl (optimal alignment, and \"median\" to match drift scan datasets)"
   ]
  },
  {
   "cell_type": "markdown",
   "id": "907d807e-1509-4c99-afd8-b407c25023e7",
   "metadata": {},
   "source": [
    "## Band2"
   ]
  },
  {
   "cell_type": "code",
   "execution_count": null,
   "id": "2de2e400-7770-4834-b4bf-f0ad32255974",
   "metadata": {},
   "outputs": [],
   "source": [
    "rr = katselib.ls_archive(f\"InstructionSet:\\\"scan-ant*{ant}*\\\" AND StartTime:[2025-05-20T0:0:0Z TO *] AND InstructionSet:\\\"scan-extent 24*\\\" AND InstructionSet:*holography*\",\n",
    "                    min_duration=1800, fields=[\"CaptureBlockId\",\"StartTime\",\"CenterFrequency\",'Description','InstructionSet'], field_len=240)"
   ]
  },
  {
   "cell_type": "code",
   "execution_count": null,
   "id": "d7bf0c78-9e09-4088-be44-3e0675575a39",
   "metadata": {},
   "outputs": [],
   "source": [
    "# Run this before and after the \"QA\" cell below, to exclude datasets based on manual QA assessment\n",
    "discard([# Update this list to contain all \"bad\" datasets, with comment please!\n",
    "])"
   ]
  },
  {
   "cell_type": "code",
   "execution_count": null,
   "id": "2b51d8c7-98bc-4f1e-8688-2f315705872f",
   "metadata": {
    "scrolled": true
   },
   "outputs": [],
   "source": [
    "cbids = qa_holography(rr, ant, f_MHz=[900, 1150, 1600, 1705], dMHz=10) # Middle 2 typically have RFI - judge how bad?"
   ]
  },
  {
   "cell_type": "code",
   "execution_count": null,
   "id": "3490658a-5314-43d9-ad7c-1ed6e03823de",
   "metadata": {},
   "outputs": [],
   "source": [
    "print(\"Final FI angle = \", final_FI_angles['b2']) # For reference\n",
    "summarise_distribution(cbids, ant);"
   ]
  },
  {
   "cell_type": "markdown",
   "id": "e5a8d175-c6ea-410a-9d61-053c21831ffa",
   "metadata": {},
   "source": [
    "## S0"
   ]
  },
  {
   "cell_type": "code",
   "execution_count": null,
   "id": "331a71bd-a6e8-4a17-9744-0ad999cdc152",
   "metadata": {},
   "outputs": [],
   "source": [
    "rr = katselib.ls_archive(f\"InstructionSet:\\\"scan-ant*{ant}*\\\" AND StartTime:[2025-05-20T0:0:0Z TO *] AND InstructionSet:\\\"scan-extent 13*\\\" AND InstructionSet:*holography*\",\n",
    "                    min_duration=1800, fields=[\"CaptureBlockId\",\"StartTime\",\"CenterFrequency\",'Description','InstructionSet'], field_len=240)"
   ]
  },
  {
   "cell_type": "code",
   "execution_count": null,
   "id": "f3282dec-6a54-4e9f-8156-31616532ad6e",
   "metadata": {},
   "outputs": [],
   "source": [
    "# Run this before and after the \"QA\" cell below, to exclude datasets based on manual QA assessment\n",
    "discard([# Update this list to contain all \"bad\" datasets, with comment please!\n",
    "])"
   ]
  },
  {
   "cell_type": "code",
   "execution_count": null,
   "id": "2c9f09ce-80fd-408b-a604-cfd0d0d9dc87",
   "metadata": {
    "scrolled": true
   },
   "outputs": [],
   "source": [
    "cbids = qa_holography(rr, ant, f_MHz=[1780, 2100, 2250, 2450], dMHz=15) # Middle 2 typically have RFI - judge how bad?"
   ]
  },
  {
   "cell_type": "code",
   "execution_count": null,
   "id": "14e77d4b-90e1-43ac-bd97-0e727e16612a",
   "metadata": {},
   "outputs": [],
   "source": [
    "print(\"Final FI angle = \", final_FI_angles['s']) # For reference\n",
    "summarise_distribution(cbids, ant);"
   ]
  },
  {
   "cell_type": "markdown",
   "id": "0cf44516-e6ce-4b7d-9e6a-d396be97866f",
   "metadata": {},
   "source": [
    "## S4"
   ]
  },
  {
   "cell_type": "code",
   "execution_count": null,
   "id": "7462b3bb-75f0-473f-81f1-ea2fec21a3b8",
   "metadata": {},
   "outputs": [],
   "source": [
    "rr = katselib.ls_archive(f\"InstructionSet:\\\"scan-ant*{ant}*\\\" AND StartTime:[2025-05-20T0:0:0Z TO *] AND CenterFrequency:3062500000 AND InstructionSet:\\\"scan-extent 9*\\\" AND InstructionSet:*holography*\",\n",
    "                    min_duration=1800, fields=[\"CaptureBlockId\",\"StartTime\",\"CenterFrequency\",'Description','InstructionSet'], field_len=240)"
   ]
  },
  {
   "cell_type": "code",
   "execution_count": null,
   "id": "2316bc25-9762-48c4-b843-c10efae7e61c",
   "metadata": {},
   "outputs": [],
   "source": [
    "# Run this before and after the \"QA\" cell below, to exclude datasets based on manual QA assessment\n",
    "discard([# Update this list to contain all \"bad\" datasets, with comment please!\n",
    "])"
   ]
  },
  {
   "cell_type": "code",
   "execution_count": null,
   "id": "ac322ad4-fbfb-4f6e-a732-be8b2d8eef8c",
   "metadata": {
    "scrolled": true
   },
   "outputs": [],
   "source": [
    "cbids = qa_holography(rr, ant, f_MHz=[2650, 2910, 3160, 3410], dMHz=28) # Typically have RFI - judge how bad?"
   ]
  },
  {
   "cell_type": "code",
   "execution_count": null,
   "id": "d17eba07-2cb9-4781-becb-bcbd3ff60729",
   "metadata": {
    "scrolled": true
   },
   "outputs": [],
   "source": [
    "print(\"Final FI angle = \", final_FI_angles['s']) # For reference\n",
    "summarise_distribution(cbids, ant);"
   ]
  },
  {
   "cell_type": "markdown",
   "id": "7acc774b-7111-49b9-8953-9fe47f492690",
   "metadata": {},
   "source": [
    "## Ku-band"
   ]
  },
  {
   "cell_type": "code",
   "execution_count": null,
   "id": "0809c373-22a8-4658-84e1-e09b87a7741b",
   "metadata": {},
   "outputs": [],
   "source": [
    "rr = katselib.ls_archive(f\"InstructionSet:\\\"scan-ant*{ant}*\\\" AND StartTime:[2025-05-20T0:0:0Z TO *] AND CenterFrequency:[11000000000 TO *] AND InstructionSet:*holography*\" +\\\n",
    "                         \" AND InstructionSet:\\\"scan-extent 6.0\\\"\",\n",
    "                    min_duration=1800, fields=[\"CaptureBlockId\",\"StartTime\",\"CenterFrequency\",'Description','InstructionSet'], field_len=250)"
   ]
  },
  {
   "cell_type": "code",
   "execution_count": null,
   "id": "0f392bab-7828-41a0-bc47-318e9867b3bf",
   "metadata": {},
   "outputs": [],
   "source": [
    "# Run this before and after the \"QA\" cell below, to exclude datasets based on manual QA assessment\n",
    "discard([# Update this list to contain all \"bad\" datasets, with comment please!\n",
    "         # Stick to \"broken\" & \"sparse\" only?\n",
    "])"
   ]
  },
  {
   "cell_type": "code",
   "execution_count": null,
   "id": "510feb1d-da49-4821-bb8d-092732553019",
   "metadata": {},
   "outputs": [],
   "source": [
    "cbids = qa_holography(rr, ant, beacon_freq, dMHz=1)"
   ]
  },
  {
   "cell_type": "code",
   "execution_count": null,
   "id": "15bee717-7c6d-4702-b759-9121d43f3420",
   "metadata": {},
   "outputs": [],
   "source": [
    "print(\"Final FI angle = \", final_FI_angles['x']) # For reference\n",
    "summarise_distribution(cbids, ant);"
   ]
  },
  {
   "cell_type": "markdown",
   "id": "79f2137a-1ae0-4c08-8f31-05e8225be09e",
   "metadata": {},
   "source": [
    "## Over Elevation"
   ]
  },
  {
   "cell_type": "markdown",
   "id": "9c9b123e-d7e2-4cb0-99ef-993a2f3028d1",
   "metadata": {},
   "source": [
    "## Band2"
   ]
  },
  {
   "cell_type": "code",
   "execution_count": null,
   "id": "98d58243-61bf-4e09-bc8a-c07f1f5efbf3",
   "metadata": {
    "scrolled": true
   },
   "outputs": [],
   "source": [
    "rr = katselib.ls_archive(f\"InstructionSet:\\\"scan-ant*{ant}*\\\" AND StartTime:[2025-05-20T0:0:0Z TO *] AND CenterFrequency:1284000000 AND InstructionSet:*holography*\",\n",
    "                    min_duration=1800, fields=[\"CaptureBlockId\",\"StartTime\",\"CenterFrequency\",'Description','InstructionSet'], field_len=240)"
   ]
  },
  {
   "cell_type": "code",
   "execution_count": null,
   "id": "d13796ae-f3fc-4bd3-bbb1-b4b48888c618",
   "metadata": {},
   "outputs": [],
   "source": [
    "# Run this before and after the \"QA\" cell below, to exclude datasets based on manual QA assessment\n",
    "discard([# Update this list to contain all \"bad\" datasets, with comment please!\n",
    "])"
   ]
  },
  {
   "cell_type": "code",
   "execution_count": null,
   "id": "b73edcaf-d6fa-44ca-9f63-0648d67da2ce",
   "metadata": {
    "scrolled": true
   },
   "outputs": [],
   "source": [
    "cbids = qa_holography(rr, ant, f_MHz=[900, 1150, 1600, 1705], dMHz=10) # Middle 2 typically have RFI - judge how bad?"
   ]
  },
  {
   "cell_type": "code",
   "execution_count": null,
   "id": "b7da1668-09c3-4e55-9c0c-7d3fce487693",
   "metadata": {
    "scrolled": true
   },
   "outputs": [],
   "source": [
    "print(\"Final FI angle = \", final_FI_angles['b2']) # For reference\n",
    "summarise_distribution(cbids, ant, match_FI_angle=final_FI_angle, DFI=0.08); # 1753730647 is reported inaccurately"
   ]
  },
  {
   "cell_type": "markdown",
   "id": "148adbb1-1dc8-4574-905b-05212202cd63",
   "metadata": {},
   "source": [
    "## S0"
   ]
  },
  {
   "cell_type": "code",
   "execution_count": null,
   "id": "6240dd7a-7db6-4a8f-bc6a-f1a1b5f2e765",
   "metadata": {},
   "outputs": [],
   "source": [
    "rr = katselib.ls_archive(f\"InstructionSet:\\\"scan-ant*{ant}*\\\" AND StartTime:[2025-05-20T0:0:0Z TO *] AND CenterFrequency:2187500000 AND InstructionSet:*holography*\",\n",
    "                    min_duration=1800, fields=[\"CaptureBlockId\",\"StartTime\",\"CenterFrequency\",'Description','InstructionSet'], field_len=240)"
   ]
  },
  {
   "cell_type": "code",
   "execution_count": null,
   "id": "3dc37443-5544-4db2-83bb-c1e4b158e59a",
   "metadata": {},
   "outputs": [],
   "source": [
    "# Run this before and after the \"QA\" cell below, to exclude datasets based on manual QA assessment\n",
    "discard([# Update this list to contain all \"bad\" datasets, with comment please!\n",
    "])"
   ]
  },
  {
   "cell_type": "code",
   "execution_count": null,
   "id": "55e5a1e4-03c5-4b2e-b055-0f581d8991b5",
   "metadata": {
    "scrolled": true
   },
   "outputs": [],
   "source": [
    "cbids = qa_holography(rr, ant, f_MHz=[1800, 2000, 2200, 2500], dMHz=20) # Typically have RFI - judge how bad?"
   ]
  },
  {
   "cell_type": "code",
   "execution_count": null,
   "id": "ea210d89-ef2d-47d2-b6e2-96c7353b5e1e",
   "metadata": {},
   "outputs": [],
   "source": [
    "print(\"Final FI angle = \", final_FI_angles['s']) # For reference\n",
    "summarise_distribution(cbids, ant, match_FI_angle=final_FI_angles['b2']);"
   ]
  },
  {
   "cell_type": "markdown",
   "id": "821e8956-2c64-4152-b5b3-6935dd620cbe",
   "metadata": {},
   "source": [
    "## S3 & S4"
   ]
  },
  {
   "cell_type": "code",
   "execution_count": null,
   "id": "12de1a96-7492-4199-a676-7b8e353cd224",
   "metadata": {
    "scrolled": true
   },
   "outputs": [],
   "source": [
    "rr = katselib.ls_archive(f\"InstructionSet:\\\"scan-ant*{ant}*\\\" AND StartTime:[2025-05-20T0:0:0Z TO *] AND CenterFrequency:[2843750000 TO 3062500000] AND InstructionSet:*holography*\",\n",
    "                    min_duration=1800, fields=[\"CaptureBlockId\",\"StartTime\",\"CenterFrequency\",'Description','InstructionSet'], field_len=240)"
   ]
  },
  {
   "cell_type": "code",
   "execution_count": null,
   "id": "f56e0050-fb5a-48e7-9a22-eec6945576ab",
   "metadata": {},
   "outputs": [],
   "source": [
    "# Run this before and after the \"QA\" cell below, to exclude datasets based on manual QA assessment\n",
    "discard([# Update this list to contain all \"bad\" datasets, with comment please!\n",
    "])"
   ]
  },
  {
   "cell_type": "code",
   "execution_count": null,
   "id": "036a4e79-2488-4980-ac9f-444c35f122ce",
   "metadata": {
    "scrolled": true
   },
   "outputs": [],
   "source": [
    "cbids = qa_holography(rr, ant, f_MHz=[2650, 2910, 3160], dMHz=28) # Typically have RFI - judge how bad?"
   ]
  },
  {
   "cell_type": "code",
   "execution_count": null,
   "id": "dc35d62a-e688-4e9b-bec3-50f3867fb697",
   "metadata": {
    "scrolled": true
   },
   "outputs": [],
   "source": [
    "print(\"Final FI angle = \", final_FI_angles['s']) # For reference\n",
    "summarise_distribution(cbids, ant, match_FI_angle=final_FI_angles['s']);"
   ]
  },
  {
   "cell_type": "markdown",
   "id": "a8beedd3-feb9-4911-af03-08d3fbab466a",
   "metadata": {},
   "source": [
    "## Ku-band"
   ]
  },
  {
   "cell_type": "code",
   "execution_count": null,
   "id": "62c87d0a-bfcd-498a-9d6b-8aebe30c58ad",
   "metadata": {},
   "outputs": [],
   "source": [
    "rr = katselib.ls_archive(f\"InstructionSet:\\\"scan-ant*{ant}*\\\" AND StartTime:[2025-05-20T0:0:0Z TO *] AND CenterFrequency:[11000000000 TO *] AND InstructionSet:*holography*\" +\\\n",
    "                         \" AND NOT InstructionSet:\\\"scan-extent 6.0\\\"\",\n",
    "                    min_duration=1800, fields=[\"CaptureBlockId\",\"StartTime\",\"CenterFrequency\",'Description','InstructionSet'], field_len=250)"
   ]
  },
  {
   "cell_type": "code",
   "execution_count": null,
   "id": "efad4183-d0d8-464c-bea3-6fe841085a62",
   "metadata": {},
   "outputs": [],
   "source": [
    "# Run this before and after the \"QA\" cell below, to exclude datasets based on manual QA assessment\n",
    "discard([# Update this list to contain all \"bad\" datasets, with comment please!\n",
    "         # Stick to \"broken\" & \"sparse\" only?\n",
    "])"
   ]
  },
  {
   "cell_type": "code",
   "execution_count": null,
   "id": "569fae5f-be07-4e6f-b98d-fd0b84579059",
   "metadata": {
    "scrolled": true
   },
   "outputs": [],
   "source": [
    "f_holog = [11496,11696,11896,12070] + [12700,12872,13072,13272] # X0 + X3\n",
    "cbids = qa_holography(rr, ant, f_MHz=f_holog, dMHz=110)"
   ]
  },
  {
   "cell_type": "code",
   "execution_count": null,
   "id": "177df316-89dc-4f95-9ebb-6c8c238c24c0",
   "metadata": {
    "scrolled": true
   },
   "outputs": [],
   "source": [
    "print(\"Final FI angle = \", final_FI_angles['x']) # For reference\n",
    "summarise_distribution(cbids, ant, match_FI_angle=final_FI_angles['x']);"
   ]
  },
  {
   "cell_type": "markdown",
   "id": "451d0de7-edca-4e8f-abda-38c77f2d46c0",
   "metadata": {},
   "source": [
    "## Catch-up Planning"
   ]
  },
  {
   "cell_type": "code",
   "execution_count": null,
   "id": "9706d5b9-327e-42ef-b84c-10b85764c750",
   "metadata": {},
   "outputs": [],
   "source": [
    "# Schedule for 27/07/2025\n",
    "schedule = [(\"Band2\",0),\n",
    "            (\"PKS 1934-63\", 1*60*60),\n",
    "            (\"Band2->S4\",25*60),\n",
    "            (\"PKS 1934-63\", 2*.75*60*60), (\"PKS 1934-63\", 2*.75*60*60), # Holography @ 50degEl\n",
    "            (\"J1924-2914\", 2*.75*60*60), # Holography > 70degEl\n",
    "            (\"PKS 0408-65\", 2*.75*60*60), (\"3C 48\", 2*.75*60*60), (\"3C 48\", 2*.75*60*60), (\"3C 48\", 2*.75*60*60)# Holography @ 20degEl\n",
    "]\n",
    "\n",
    "Tobs = katpoint.Timestamp(\"2025-07-27 17:30:00\").secs # UTC\n",
    "planning.sim_observations(schedule, catfn=\"../catalogues/targets_pnt_S.csv\", Tstart=Tobs, el_limit_deg=14,\n",
    "                 figsize=(12,7))"
   ]
  },
  {
   "cell_type": "code",
   "execution_count": null,
   "id": "b732e951-3aee-49a0-af4c-3f2e73bffc7b",
   "metadata": {},
   "outputs": [],
   "source": []
  },
  {
   "cell_type": "markdown",
   "id": "a79c5dd2-4e7c-4409-ac51-ea479eeb3463",
   "metadata": {},
   "source": [
    "# All Sky Pointing"
   ]
  },
  {
   "cell_type": "code",
   "execution_count": null,
   "id": "3ad644df-42f7-4a4e-b6fc-637331f8d386",
   "metadata": {},
   "outputs": [],
   "source": [
    "def summarise_pointing(rr, ant, f_MHz, match_FI_angle=None, DFI=0.02):\n",
    "    cbids = []\n",
    "    for r in rr:\n",
    "        if (float(r['CenterFrequency'])/1e6 != f_MHz):\n",
    "            continue\n",
    "        cbids.append(int(r['CaptureBlockId']))\n",
    "        try:\n",
    "            ds = util.open_dataset(cbids[-1], ref_ant=ant, cache_root=\"./l1_data\")\n",
    "            is_nighttime = katselib.is_nighttime(ds.timestamps[0]) and katselib.is_nighttime(np.mean(ds.timestamps))\n",
    "            fi = katselib.getsensorvalues(\"%s_dsm_indexerActualPosition\"%ant, ds.timestamps)[1]\n",
    "            if (match_FI_angle is not None) and (np.abs(np.median(fi)-match_FI_angle)>DFI):\n",
    "                cbids.pop(-1)\n",
    "            else:\n",
    "                print(cbids[-1], {False:\"day\", True:\"night\"}[is_nighttime], np.mean(ds.el), \"degEl; FI @\", np.mean(fi))\n",
    "                katselib.plot_pointing(ds, requested=False, ants=ant, scans=\"~slew\", collate=True, figsize=(12,5))\n",
    "        except:\n",
    "            util.open_dataset(cbids[-1], cache_root=\"./l1_data\").del_cache()\n",
    "            cbids.pop(-1)\n",
    "    print(cbids)\n",
    "    return cbids"
   ]
  },
  {
   "cell_type": "code",
   "execution_count": null,
   "id": "41971505-b8b8-40dd-b01b-83262bd33ea3",
   "metadata": {
    "scrolled": true
   },
   "outputs": [],
   "source": [
    "# Tilt corrections were DISABLED by default\t\n",
    "rr = katselib.ls_archive(f\"StartTime:[2025-04-26T10:0:0Z TO 2025-05-16T18:00:00Z] AND Description:All Sky Pointing AND InstructionSet:*circular_pointing*\" +\n",
    "                         f\" AND InstructionSet:\\\"scan-ant {ant}\\\"~1\", min_duration=900, fields=[\"CaptureBlockId\",\"StartTime\",\"CenterFrequency\",\"Description\",\"InstructionSet\",\"Antennas\"], field_len=220)"
   ]
  },
  {
   "cell_type": "code",
   "execution_count": null,
   "id": "45fd3086-92a1-4b85-8534-793e43b03884",
   "metadata": {},
   "outputs": [],
   "source": [
    "# Run this before and after the \"QA\" cell below, to exclude datasets based on manual QA assessment\n",
    "discard([# Update this list to contain all \"bad\" datasets, with comment please!\n",
    "])"
   ]
  },
  {
   "cell_type": "code",
   "execution_count": null,
   "id": "22be22df-5f30-467c-8460-b3f7b1ee29fa",
   "metadata": {},
   "outputs": [],
   "source": [
    "cbids = summarise_pointing(rr, ant, 1284)"
   ]
  },
  {
   "cell_type": "code",
   "execution_count": null,
   "id": "c4c0aa04-b84f-4855-aa51-201212949577",
   "metadata": {},
   "outputs": [],
   "source": [
    "# S4\n",
    "cbids = summarise_pointing(rr, ant, 3062.5)"
   ]
  },
  {
   "cell_type": "code",
   "execution_count": null,
   "id": "323a35e0-f606-43c3-b28e-5e7d19c20251",
   "metadata": {
    "scrolled": true
   },
   "outputs": [],
   "source": [
    "cbids = summarise_pointing(rr, ant, 13072)"
   ]
  },
  {
   "cell_type": "code",
   "execution_count": null,
   "id": "a7934fa3-9bd3-4dff-ac44-dfe650a56b55",
   "metadata": {},
   "outputs": [],
   "source": []
  },
  {
   "cell_type": "code",
   "execution_count": null,
   "id": "1a401107-fbab-4b9b-900b-1ae7d5d6c49a",
   "metadata": {},
   "outputs": [],
   "source": [
    "# From here onward, tilt corrections were ENABLED unless explicitly noted otherwise! \t\n",
    "rr = katselib.ls_archive(f\"StartTime:[2025-05-16T18:00:00Z TO *] AND Description:All Sky Pointing AND InstructionSet:*circular_pointing*\" +\n",
    "                          f\" AND InstructionSet:\\\"scan-ant {ant}\\\"~1\", min_duration=900, fields=[\"CaptureBlockId\",\"StartTime\",\"CenterFrequency\",\"Description\",\"InstructionSet\",\"Antennas\"], field_len=220)"
   ]
  },
  {
   "cell_type": "code",
   "execution_count": null,
   "id": "dc8a35b2-0763-49c9-b313-fa635858aeb3",
   "metadata": {},
   "outputs": [],
   "source": [
    "# Run this before and after the \"QA\" cell below, to exclude datasets based on manual QA assessment\n",
    "discard([# Update this list to contain all \"bad\" datasets, with comment please!\n",
    "])\n",
    "\n",
    "rr1 = [r for r in rr if (\"no-tiltcorrection\" not in r['InstructionSet'])]\n",
    "rr0 = [r for r in rr if (\"no-tiltcorrection\" in r['InstructionSet'])]"
   ]
  },
  {
   "cell_type": "code",
   "execution_count": null,
   "id": "afce55d7-8951-444c-a770-e800870fb4d1",
   "metadata": {},
   "outputs": [],
   "source": [
    "# B2\n",
    "cbids0 = summarise_pointing(rr0, ant, 1284)"
   ]
  },
  {
   "cell_type": "code",
   "execution_count": null,
   "id": "9b3bd8b0-503c-4b08-9cca-29e4986ab14e",
   "metadata": {
    "scrolled": true
   },
   "outputs": [],
   "source": [
    "cbids1 = summarise_pointing(rr1, ant, 1284)"
   ]
  },
  {
   "cell_type": "code",
   "execution_count": null,
   "id": "96487561-c8ab-4fa8-8a42-2a47277ffc81",
   "metadata": {},
   "outputs": [],
   "source": [
    "# S3\n",
    "cbids0 = summarise_pointing(rr0, ant, 2843.75)"
   ]
  },
  {
   "cell_type": "code",
   "execution_count": null,
   "id": "31ee068a-2668-4fcb-8167-270338a4f849",
   "metadata": {
    "scrolled": true
   },
   "outputs": [],
   "source": [
    "cbids1 = summarise_pointing(rr1, ant, 2843.75)"
   ]
  },
  {
   "cell_type": "code",
   "execution_count": null,
   "id": "95f152d2-50a6-4077-8ed1-7a5157a2ca76",
   "metadata": {},
   "outputs": [],
   "source": [
    "#S4\n",
    "cbids0 = summarise_pointing(rr0, ant, 3062.5)"
   ]
  },
  {
   "cell_type": "code",
   "execution_count": null,
   "id": "e99a6ec9-6884-456f-b860-1c641dec97bd",
   "metadata": {},
   "outputs": [],
   "source": [
    "cbids1 = summarise_pointing(rr1, ant, 3062.5)"
   ]
  },
  {
   "cell_type": "code",
   "execution_count": null,
   "id": "d08d000b-957c-4689-a08e-6058f6c4fe03",
   "metadata": {},
   "outputs": [],
   "source": [
    "# X3\n",
    "cbids0 = summarise_pointing(rr0, ant, 13072)"
   ]
  },
  {
   "cell_type": "code",
   "execution_count": null,
   "id": "40a05eab-b657-4b49-b56d-bfe26f1673ed",
   "metadata": {
    "scrolled": true
   },
   "outputs": [],
   "source": [
    "cbids1 = summarise_pointing(rr1, ant, 13072)"
   ]
  },
  {
   "cell_type": "markdown",
   "id": "b4900803-e1f7-4b63-a85b-5d0532d4160b",
   "metadata": {},
   "source": [
    "# Tracking Stability"
   ]
  },
  {
   "cell_type": "code",
   "execution_count": null,
   "id": "ff953107-647d-4030-b762-f4821379c2d7",
   "metadata": {},
   "outputs": [],
   "source": [
    "# All data was recorded after tilt corrections were ENABLED by default\n",
    "rr = katselib.ls_archive(f\"StartTime:[2025-04-26T10:0:0Z TO *] AND Description:Stability AND InstructionSet:*circular_pointing*\" +\n",
    "                         f\" AND InstructionSet:\\\"scan-ant {ant}\\\"~1\", min_duration=900, fields=[\"CaptureBlockId\",\"StartTime\",\"CenterFrequency\",\"Description\",\"InstructionSet\",\"Antennas\"], field_len=220)"
   ]
  },
  {
   "cell_type": "code",
   "execution_count": null,
   "id": "604684cc-7e44-4bc5-b93b-9f92efb3abc9",
   "metadata": {},
   "outputs": [],
   "source": [
    "# Run this before and after the \"QA\" cell below, to exclude datasets based on manual QA assessment\n",
    "discard([# Update this list to contain all \"bad\" datasets, with comment please!\n",
    "])"
   ]
  },
  {
   "cell_type": "code",
   "execution_count": null,
   "id": "e041176b-a848-4a2d-8f07-f3555a497314",
   "metadata": {},
   "outputs": [],
   "source": [
    "cbids = summarise_pointing(rr, ant, 13072)"
   ]
  },
  {
   "cell_type": "markdown",
   "id": "11b64ce7-5217-48a0-bc8c-f6437215a8d6",
   "metadata": {},
   "source": [
    "# Indexer Repeatability"
   ]
  },
  {
   "cell_type": "code",
   "execution_count": null,
   "id": "e5973b42-9ef8-47ff-9583-2bfe63934922",
   "metadata": {},
   "outputs": [],
   "source": [
    "# All data was recorded after tilt corrections were ENABLED by default\n",
    "rr = katselib.ls_archive(f\"StartTime:[2025-04-26T10:0:0Z TO *] AND Description:Index Repeatability AND InstructionSet:*circular_pointing*\" +\n",
    "                         f\" AND InstructionSet:\\\"scan-ant {ant}\\\"~1\", min_duration=900, fields=[\"CaptureBlockId\",\"StartTime\",\"CenterFrequency\",\"Description\",\"InstructionSet\",\"Antennas\"], field_len=220)"
   ]
  },
  {
   "cell_type": "code",
   "execution_count": null,
   "id": "01d59d9b-1422-40af-8c10-5bc342aa8a12",
   "metadata": {},
   "outputs": [],
   "source": [
    "# Run this before and after the \"QA\" cell below, to exclude datasets based on manual QA assessment\n",
    "discard([# Update this list to contain all \"bad\" datasets, with comment please!\n",
    "])"
   ]
  },
  {
   "cell_type": "code",
   "execution_count": null,
   "id": "4779571c-98e0-475b-9a1c-d2702082c3a6",
   "metadata": {},
   "outputs": [],
   "source": [
    "cbids = summarise_pointing(rr, ant, 3062.5)"
   ]
  },
  {
   "cell_type": "code",
   "execution_count": null,
   "id": "0b080248-7340-4d79-85bc-94d5d9d9a5ee",
   "metadata": {},
   "outputs": [],
   "source": [
    "cbids = summarise_pointing(rr, ant, 12499.5)"
   ]
  },
  {
   "cell_type": "code",
   "execution_count": null,
   "id": "b7f5fe10-6356-403f-9af6-f5b943524082",
   "metadata": {},
   "outputs": [],
   "source": []
  }
 ],
 "metadata": {
  "kernelspec": {
   "display_name": "dvs",
   "language": "python",
   "name": "dvs"
  },
  "language_info": {
   "codemirror_mode": {
    "name": "ipython",
    "version": 3
   },
   "file_extension": ".py",
   "mimetype": "text/x-python",
   "name": "python",
   "nbconvert_exporter": "python",
   "pygments_lexer": "ipython3",
   "version": "3.10.17"
  }
 },
 "nbformat": 4,
 "nbformat_minor": 5
}
